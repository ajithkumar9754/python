{
 "cells": [
  {
   "cell_type": "code",
   "execution_count": 14,
   "metadata": {},
   "outputs": [
    {
     "name": "stdout",
     "output_type": "stream",
     "text": [
      "[2030, 2065, 2100, 2135, 2170, 2205, 2240, 2275, 2310, 2345, 2380, 2415, 2450, 2485, 2520, 2555, 2590, 2625, 2660, 2695, 2730, 2765, 2800, 2835, 2870, 2905, 2940, 2975, 3010, 3045, 3080, 3115, 3150, 3185]\n"
     ]
    }
   ],
   "source": [
    "#Asignment 1, Task 1.2\n",
    "# Write a program which will find all such numbers which are divisible by 7 but are not a multiple\n",
    "# of 5, between 2000 and 3200 (both included). The numbers obtained should be printed in a\n",
    "# comma-separated sequence on a single line.\n",
    "\n",
    "numberArray = []\n",
    "for number in range(2000,3200):\n",
    "    if(number%7 == 0 and number %5==0):\n",
    "        numberArray.append(number)\n",
    "print(numberArray)"
   ]
  },
  {
   "cell_type": "code",
   "execution_count": null,
   "metadata": {},
   "outputs": [],
   "source": []
  },
  {
   "cell_type": "code",
   "execution_count": 15,
   "metadata": {},
   "outputs": [
    {
     "name": "stdout",
     "output_type": "stream",
     "text": [
      "Enter FirstName : Ajith\n",
      "Enter LastName : Kumar\n",
      "htijA ramuK\n"
     ]
    }
   ],
   "source": [
    "\n",
    "#Asignment 1, Task 1.3\n",
    "#Write a Python program to accept the user's first and last name and then getting them printed in\n",
    "#the the reverse order with a space between first name and last name.\n",
    "\n",
    "firstName =input(\"Enter FirstName : \")\n",
    "lastName  =input(\"Enter LastName : \")\n",
    "\n",
    "print(firstName[::-1] + \" \" + lastName[::-1])\n"
   ]
  },
  {
   "cell_type": "code",
   "execution_count": null,
   "metadata": {},
   "outputs": [],
   "source": []
  },
  {
   "cell_type": "code",
   "execution_count": 16,
   "metadata": {},
   "outputs": [
    {
     "name": "stdout",
     "output_type": "stream",
     "text": [
      " Volume of a sphere is :  7234.5599999999995\n"
     ]
    }
   ],
   "source": [
    "#Asignment 1, Task 1.4\n",
    "#Write a Python program to find the volume of a sphere with diameter 12 cm.\n",
    "#Formula: V=4/3 * π * r\n",
    "\n",
    "r =12\n",
    "pi=3.14\n",
    "\n",
    "volume =4.0/3.0*pi* r**3\n",
    "\n",
    "print(\" Volume of a sphere is : \",volume)\n",
    "\n"
   ]
  },
  {
   "cell_type": "code",
   "execution_count": null,
   "metadata": {},
   "outputs": [],
   "source": []
  },
  {
   "cell_type": "code",
   "execution_count": null,
   "metadata": {},
   "outputs": [],
   "source": []
  }
 ],
 "metadata": {
  "kernelspec": {
   "display_name": "Python 3",
   "language": "python",
   "name": "python3"
  },
  "language_info": {
   "codemirror_mode": {
    "name": "ipython",
    "version": 3
   },
   "file_extension": ".py",
   "mimetype": "text/x-python",
   "name": "python",
   "nbconvert_exporter": "python",
   "pygments_lexer": "ipython3",
   "version": "3.7.4"
  }
 },
 "nbformat": 4,
 "nbformat_minor": 2
}
