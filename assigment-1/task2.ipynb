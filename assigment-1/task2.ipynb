{
 "cells": [
  {
   "cell_type": "code",
   "execution_count": 1,
   "metadata": {},
   "outputs": [
    {
     "name": "stdout",
     "output_type": "stream",
     "text": [
      "Enter numbers with comma separated : 12, 34,78,9000,12233\n",
      "Generated List :: ['12', ' 34', '78', '9000', '12233']\n"
     ]
    }
   ],
   "source": [
    "#Assignment 1. Task 2.1\n",
    "#Write a program which accepts a sequence of comma-separated numbers from console and\n",
    "#generate a list.\n",
    "\n",
    "inputData = input(\"Enter numbers with comma separated : \")\n",
    "numberList = inputData.split(',')\n",
    "print(\"Generated List ::\", numberList)\n"
   ]
  },
  {
   "cell_type": "code",
   "execution_count": null,
   "metadata": {},
   "outputs": [],
   "source": []
  },
  {
   "cell_type": "code",
   "execution_count": 27,
   "metadata": {},
   "outputs": [
    {
     "name": "stdout",
     "output_type": "stream",
     "text": [
      "\n",
      "\n",
      "* \n",
      "\n",
      "* * \n",
      "\n",
      "* * * \n",
      "\n",
      "* * * * \n",
      "\n",
      "* * * * * \n",
      "\n",
      "* * * * \n",
      "\n",
      "* * * \n",
      "\n",
      "* * \n",
      "\n",
      "* \n",
      "\n"
     ]
    }
   ],
   "source": [
    "#Assignment 1. Task 2.2\n",
    "#Create a pattern using nested for loop in Python\n",
    "\n",
    "for loop1 in range(6):\n",
    "    for i in range(loop1):\n",
    "        print ('*', end=\" \")\n",
    "    print(\"\\n\")\n",
    "for loop2 in range(4,0,-1):\n",
    "    for j in range(loop2):\n",
    "        print ('*', end=\" \") \n",
    "    print(\"\\n\")    \n"
   ]
  },
  {
   "cell_type": "code",
   "execution_count": null,
   "metadata": {},
   "outputs": [],
   "source": []
  },
  {
   "cell_type": "code",
   "execution_count": 33,
   "metadata": {},
   "outputs": [
    {
     "name": "stdout",
     "output_type": "stream",
     "text": [
      "Enter a word to reverse :AcadGild\n",
      "dliGdacA\n"
     ]
    }
   ],
   "source": [
    "#Assignment 1. Task 2.3\n",
    "\n",
    "#Write a Python program to reverse a word after accepting the input from the user\n",
    "\n",
    "word = input(\"Enter a word to reverse :\")\n",
    "\n",
    "print(word[::-1])\n"
   ]
  },
  {
   "cell_type": "code",
   "execution_count": null,
   "metadata": {},
   "outputs": [],
   "source": [
    "\n"
   ]
  },
  {
   "cell_type": "code",
   "execution_count": 2,
   "metadata": {},
   "outputs": [
    {
     "name": "stdout",
     "output_type": "stream",
     "text": [
      "WE THE PEOPLE OF INDIA,\n",
      "\t  having solemnly resolved to constitute India into a SOVEREIGN , !\n",
      "\t \t  SOCIALIST ,   SECULAR ,  DEMOCRATIC ,  REPUBLIC\n",
      "\t \t \t  and to secure to allits citizens\n"
     ]
    }
   ],
   "source": [
    "import re\n",
    "scentence = \"WE, THE PEOPLE OF INDIA, having solemnly resolved to constitute India into a SOVEREIGN, SOCIALIST, SECULAR, DEMOCRATIC REPUBLIC and to secure to allits citizens\"\n",
    "\n",
    "# step 1. tokenize the string with ',' and separate out the scenetnces\n",
    "#step 2 . The string 'DEMOCRATIC REPUBLIC and to secure to allits citizens' has no delimiter, So used regEx to seperate out the UPPER case words from it.\n",
    "splitedWords = scentence.split(',')\n",
    "print(splitedWords[0]+splitedWords[1]+',')\n",
    "print(\"\\t\", splitedWords[2],',', '!')\n",
    "extractedUpperCaseWords = re.findall(r\"\\b[A-Z][A-Z]+\\b\", splitedWords[5])\n",
    "filterKey = extractedUpperCaseWords[0] +' '+ extractedUpperCaseWords[1]\n",
    "word = splitedWords[5].split(filterKey)\n",
    "print(\"\\t\",\"\\t\",splitedWords[3], ', ', splitedWords[4], ', ', extractedUpperCaseWords[0], ', ', extractedUpperCaseWords[1])\n",
    "print(\"\\t\",\"\\t\",\"\\t\", word[1])"
   ]
  },
  {
   "cell_type": "code",
   "execution_count": null,
   "metadata": {},
   "outputs": [],
   "source": []
  }
 ],
 "metadata": {
  "kernelspec": {
   "display_name": "Python 3",
   "language": "python",
   "name": "python3"
  },
  "language_info": {
   "codemirror_mode": {
    "name": "ipython",
    "version": 3
   },
   "file_extension": ".py",
   "mimetype": "text/x-python",
   "name": "python",
   "nbconvert_exporter": "python",
   "pygments_lexer": "ipython3",
   "version": "3.7.4"
  }
 },
 "nbformat": 4,
 "nbformat_minor": 2
}
